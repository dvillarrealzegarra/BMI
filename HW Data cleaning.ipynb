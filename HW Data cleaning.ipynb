{
 "cells": [
  {
   "cell_type": "markdown",
   "id": "1215994f-8604-4e73-ae72-8fef6c79664e",
   "metadata": {},
   "source": [
    "# Import libraries and data"
   ]
  },
  {
   "cell_type": "code",
   "execution_count": 13,
   "id": "a73d1161-d098-4532-abed-886e387eb151",
   "metadata": {},
   "outputs": [],
   "source": [
    "# -*- coding: utf-8 -*-\n",
    "\n",
    "#%% Libraries\n",
    "import pandas as pd\n",
    "import matplotlib.pyplot as plt\n",
    "import numpy as np\n",
    "\n",
    "#%% Importing Data\n",
    "flights_data = pd.read_csv(r'C:\\Users\\DAVID\\OneDrive - University of Utah\\1. PhD program\\2. Courses\\1. First year\\BMI 6018-004 - Intro to Programming\\0. Class\\Module 9 - Data Cleaning with Pandas\\0. Task\\flights.csv')\n",
    "flights_data.head(10)\n",
    "weather_data_pd = pd.read_csv(r'C:\\Users\\DAVID\\OneDrive - University of Utah\\1. PhD program\\2. Courses\\1. First year\\BMI 6018-004 - Intro to Programming\\0. Class\\Module 9 - Data Cleaning with Pandas\\0. Task\\weather.csv')\n",
    "weather_data_np = weather_data_pd.to_numpy()\n",
    "#%% Pandas Data Filtering/Sorting Question Answering\n",
    "#use flights_data"
   ]
  },
  {
   "cell_type": "markdown",
   "id": "c2844e8d-dfbe-4b6a-b248-279344a4d1d1",
   "metadata": {},
   "source": [
    "# Questions"
   ]
  },
  {
   "cell_type": "code",
   "execution_count": 14,
   "id": "eb23f73f-5f39-428a-b87c-835358a23763",
   "metadata": {},
   "outputs": [
    {
     "name": "stdout",
     "output_type": "stream",
     "text": [
      "Question 1: 2113\n"
     ]
    }
   ],
   "source": [
    "#Question 1 How many flights were there from JFK to SLC? Int\n",
    "q_1 = flights_data[(flights_data['origin'] == 'JFK') & (flights_data['dest'] == 'SLC')].shape[0]\n",
    "print(\"Question 1:\", q_1)"
   ]
  },
  {
   "cell_type": "code",
   "execution_count": 15,
   "id": "47414146-35ef-4fea-9da9-171c993e8064",
   "metadata": {},
   "outputs": [
    {
     "name": "stdout",
     "output_type": "stream",
     "text": [
      "Question 2: 2\n"
     ]
    }
   ],
   "source": [
    "#Question 2 How many airlines fly to SLC? Should be int\n",
    "q_2 = flights_data[flights_data['dest'] == 'SLC']['carrier'].nunique()\n",
    "print(\"Question 2:\", q_2)"
   ]
  },
  {
   "cell_type": "code",
   "execution_count": 16,
   "id": "277abf54-6c4a-4dd3-86b0-7d6e95a2a2ab",
   "metadata": {},
   "outputs": [
    {
     "name": "stdout",
     "output_type": "stream",
     "text": [
      "Question 3: 10.052380952380952\n"
     ]
    }
   ],
   "source": [
    "#Question 3 What is the average arrival delay for flights to RDU? float\n",
    "q_3 = flights_data[flights_data['dest'] == 'RDU']['arr_delay'].mean()\n",
    "print(\"Question 3:\", q_3)"
   ]
  },
  {
   "cell_type": "code",
   "execution_count": 17,
   "id": "0652df12-cdae-4477-8a62-07886c0f5aa3",
   "metadata": {},
   "outputs": [
    {
     "name": "stdout",
     "output_type": "stream",
     "text": [
      "Question 4: 53.326535814427736 %\n"
     ]
    }
   ],
   "source": [
    "#Question 4 What proportion of flights to SEA come from the two NYC airports (LGA and JFK)?  float\n",
    "flights_to_SEA = flights_data[flights_data['dest'] == 'SEA']\n",
    "flights_from_NYC_to_SEA = flights_to_SEA[flights_to_SEA['origin'].isin(['LGA', 'JFK'])]\n",
    "q_4 = len(flights_from_NYC_to_SEA) / len(flights_to_SEA) *100\n",
    "print(\"Question 4:\", q_4,\"%\")"
   ]
  },
  {
   "cell_type": "code",
   "execution_count": 18,
   "id": "dee31fa1-a390-4b4f-82c8-7b94c87208b8",
   "metadata": {},
   "outputs": [
    {
     "name": "stdout",
     "output_type": "stream",
     "text": [
      "Question 5: ('2013/03/08', np.float64(83.5369211514393))\n"
     ]
    }
   ],
   "source": [
    "#Question 5 Which date has the largest average depature delay? Pd slice with date and float\n",
    "#please make date a column. Preferred format is 2013/1/1 (y/m/d)\n",
    "flights_data['date'] = pd.to_datetime(flights_data[['year', 'month', 'day']])\n",
    "avg_dep_delay = flights_data.groupby('date')['dep_delay'].mean()\n",
    "max_dep_delay_date = avg_dep_delay.idxmax()\n",
    "max_dep_delay_value = avg_dep_delay.max()\n",
    "q_5 = max_dep_delay_date.strftime('%Y/%m/%d'), max_dep_delay_value\n",
    "print(\"Question 5:\", q_5)"
   ]
  },
  {
   "cell_type": "code",
   "execution_count": 19,
   "id": "72a96895-369a-43fa-a7a6-7add345a217a",
   "metadata": {},
   "outputs": [
    {
     "name": "stdout",
     "output_type": "stream",
     "text": [
      "Question 6: ('2013/03/08', np.float64(85.86215538847118))\n"
     ]
    }
   ],
   "source": [
    "#Question 6 Which date has the largest average arrival delay? pd slice with date and float\n",
    "avg_arr_delay = flights_data.groupby('date')['arr_delay'].mean()\n",
    "max_arr_delay_date = avg_arr_delay.idxmax()\n",
    "max_arr_delay_value = avg_arr_delay.max()\n",
    "q_6 = max_arr_delay_date.strftime('%Y/%m/%d'), max_arr_delay_value\n",
    "print(\"Question 6:\", q_6)"
   ]
  },
  {
   "cell_type": "code",
   "execution_count": 20,
   "id": "471a18c1-89aa-418b-b9cb-bc38bad9bc25",
   "metadata": {},
   "outputs": [
    {
     "name": "stdout",
     "output_type": "stream",
     "text": [
      "Question 7:\n"
     ]
    },
    {
     "data": {
      "text/plain": [
       "tailnum       N666DN\n",
       "speed      11.723077\n",
       "Name: 216447, dtype: object"
      ]
     },
     "execution_count": 20,
     "metadata": {},
     "output_type": "execute_result"
    }
   ],
   "source": [
    "#Question 7 Which flight departing LGA or JFK in 2013 flew the fastest? pd slice with tailnumber and speed\n",
    "#speed = distance/airtime\n",
    "flights_data['speed'] = flights_data['distance'] / flights_data['air_time']\n",
    "fastest_flight = flights_data[(flights_data['origin'].isin(['LGA', 'JFK'])) & (flights_data['year'] == 2013)]\n",
    "q_7 = fastest_flight.loc[fastest_flight['speed'].idxmax(), ['tailnum', 'speed']]\n",
    "print(\"Question 7:\")\n",
    "q_7"
   ]
  },
  {
   "cell_type": "code",
   "execution_count": 21,
   "id": "0e1b7000-43e6-4e2d-9986-8deb86393906",
   "metadata": {},
   "outputs": [
    {
     "name": "stdout",
     "output_type": "stream",
     "text": [
      "Question 8:       Unnamed: 0 origin  year  month   day  hour   temp   dewp  humid  \\\n",
      "0              1    EWR  2013    1.0   1.0   0.0  37.04  21.92  53.97   \n",
      "1              2    EWR  2013    1.0   1.0   1.0  37.04  21.92  53.97   \n",
      "2              3    EWR  2013    1.0   1.0   2.0  37.94  21.92  52.09   \n",
      "3              4    EWR  2013    1.0   1.0   3.0  37.94  23.00  54.51   \n",
      "4              5    EWR  2013    1.0   1.0   4.0  37.94  24.08  57.04   \n",
      "...          ...    ...   ...    ...   ...   ...    ...    ...    ...   \n",
      "8714        8715    JFK  2013    9.0   2.0  20.0  75.20  73.40  94.14   \n",
      "8715        8716    JFK  2013   10.0  23.0  10.0  48.92  39.02  68.51   \n",
      "8716        8717    JFK  2013   10.0  23.0  11.0  48.92  39.02  68.51   \n",
      "8717        8718    JFK  2013   12.0  17.0   5.0  26.96  10.94  50.34   \n",
      "8718        8719    LGA  2013    8.0  22.0  22.0  75.92  66.92  73.68   \n",
      "\n",
      "      wind_dir  wind_speed  wind_gust  precip  pressure  visib  \n",
      "0        230.0    10.35702  11.918651     0.0    1013.9   10.0  \n",
      "1        230.0    13.80936  15.891535     0.0    1013.0   10.0  \n",
      "2        230.0    12.65858  14.567241     0.0    1012.6   10.0  \n",
      "3        230.0    13.80936  15.891535     0.0    1012.7   10.0  \n",
      "4        240.0    14.96014  17.215830     0.0    1012.8   10.0  \n",
      "...        ...         ...        ...     ...       ...    ...  \n",
      "8714     200.0     4.60312   5.297178     0.0       0.0    4.0  \n",
      "8715      60.0     4.60312   5.297178     0.0    1008.1   10.0  \n",
      "8716      40.0     4.60312   5.297178     0.0    1008.5   10.0  \n",
      "8717      40.0     4.60312   5.297178     0.0    1023.9   10.0  \n",
      "8718     210.0     8.05546   9.270062     0.0    1011.9   10.0  \n",
      "\n",
      "[8719 rows x 15 columns]\n"
     ]
    }
   ],
   "source": [
    "#Question 8 Replace all nans in the weather pd dataframe with 0s. Pd with no nans\n",
    "q_8 = weather_data_pd.fillna(0)\n",
    "print(\"Question 8:\", q_8)"
   ]
  },
  {
   "cell_type": "code",
   "execution_count": 22,
   "id": "043868af-df8e-4e2f-8ba2-5bf2c6cdcdb2",
   "metadata": {},
   "outputs": [
    {
     "name": "stdout",
     "output_type": "stream",
     "text": [
      "Question 9: 671\n"
     ]
    }
   ],
   "source": [
    "#%% Numpy Data Filtering/Sorting Question Answering\n",
    "#Use weather_data_np\n",
    "#Question 9 How many observations were made in Feburary? Int\n",
    "february_data = weather_data_pd[weather_data_pd['month'] == 2]\n",
    "q_9 = february_data.shape[0]\n",
    "print(\"Question 9:\", q_9)"
   ]
  },
  {
   "cell_type": "code",
   "execution_count": 23,
   "id": "2bb8ef2c-0381-4015-9f13-b5346b44789e",
   "metadata": {},
   "outputs": [
    {
     "name": "stdout",
     "output_type": "stream",
     "text": [
      "Question 10: 62.91815201192251\n"
     ]
    }
   ],
   "source": [
    "#Question 10 What was the mean for humidity in February? Float\n",
    "q_10 = february_data['humid'].mean()\n",
    "print(\"Question 10:\", q_10)"
   ]
  },
  {
   "cell_type": "code",
   "execution_count": 24,
   "id": "66ef5b01-f151-40d3-ab8d-4405cc22a9cc",
   "metadata": {},
   "outputs": [
    {
     "name": "stdout",
     "output_type": "stream",
     "text": [
      "Question 11: 20.35207200968259\n"
     ]
    }
   ],
   "source": [
    "#Question 11 What was the std for humidity in February? Float\n",
    "q_11 = february_data['humid'].std()\n",
    "print(\"Question 11:\", q_11)"
   ]
  }
 ],
 "metadata": {
  "kernelspec": {
   "display_name": "Python 3 (ipykernel)",
   "language": "python",
   "name": "python3"
  },
  "language_info": {
   "codemirror_mode": {
    "name": "ipython",
    "version": 3
   },
   "file_extension": ".py",
   "mimetype": "text/x-python",
   "name": "python",
   "nbconvert_exporter": "python",
   "pygments_lexer": "ipython3",
   "version": "3.12.4"
  }
 },
 "nbformat": 4,
 "nbformat_minor": 5
}
